{
 "cells": [
  {
   "cell_type": "code",
   "execution_count": 1,
   "metadata": {},
   "outputs": [
    {
     "name": "stdout",
     "output_type": "stream",
     "text": [
      "Replacements done successfully for 7-Networking-in-Kubernetes.md.\n",
      "Replacements done successfully for 2-Pods.md.\n",
      "Replacements done successfully for 9-Microservices-architecture.md.\n",
      "Replacements done successfully for 10-minikube.md.\n",
      "Replacements done successfully for 8-Services.md.\n",
      "Replacements done successfully for 4-Pods-with-YAML.md.\n",
      "Replacements done successfully for 1-Overview.md.\n",
      "Replacements done successfully for 6-Deployments.md.\n",
      "Replacements done successfully for 5-Replication-Controllers-and-ReplicaSets.md.\n",
      "Replacements done successfully for 3-YAML.md.\n"
     ]
    }
   ],
   "source": [
    "import re\n",
    "import glob\n",
    "\n",
    "# Get a list of all .md files in the current directory\n",
    "md_files = glob.glob(\"*.md\")\n",
    "\n",
    "# Loop through each .md file\n",
    "for file_name in md_files:\n",
    "    # Read the content of the file\n",
    "    with open(file_name, \"r\") as file:\n",
    "        content = file.read()\n",
    "\n",
    "    # Replace \"image*\" with \"images/image*\"\n",
    "    updated_content = re.sub(r'\\bimage([^\\s]*)', r'images/image\\1', content)\n",
    "\n",
    "    # Write the updated content back to the file\n",
    "    with open(file_name, \"w\") as file:\n",
    "        file.write(updated_content)\n",
    "\n",
    "    print(f\"Replacements done successfully for {file_name}.\")\n",
    "\n"
   ]
  },
  {
   "cell_type": "code",
   "execution_count": null,
   "metadata": {},
   "outputs": [],
   "source": []
  }
 ],
 "metadata": {
  "kernelspec": {
   "display_name": "Python 3",
   "language": "python",
   "name": "python3"
  },
  "language_info": {
   "codemirror_mode": {
    "name": "ipython",
    "version": 3
   },
   "file_extension": ".py",
   "mimetype": "text/x-python",
   "name": "python",
   "nbconvert_exporter": "python",
   "pygments_lexer": "ipython3",
   "version": "3.12.3"
  }
 },
 "nbformat": 4,
 "nbformat_minor": 2
}
